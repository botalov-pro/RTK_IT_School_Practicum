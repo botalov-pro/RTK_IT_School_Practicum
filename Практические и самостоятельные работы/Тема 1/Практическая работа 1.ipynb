{
 "cells": [
  {
   "metadata": {},
   "cell_type": "markdown",
   "source": [
    "# Тема 1. Практическая работа 1\n",
    "\n",
    "Исполнитель: Боталов Константин Владимирович\n",
    "\n",
    "**Выберите верные имена переменных:**\n",
    "```\n",
    "name_use\n",
    "name+user\n",
    "1_user\n",
    "user_1_1\n",
    "user\n",
    "```"
   ],
   "id": "ad1732b2bfc3535c"
  },
  {
   "metadata": {},
   "cell_type": "markdown",
   "source": "## Ответ",
   "id": "87ae7ec1cd1c9ced"
  },
  {
   "metadata": {},
   "cell_type": "markdown",
   "source": [
    "Верные имена переменных:\n",
    "```\n",
    "name_use\n",
    "user_1_1\n",
    "user\n",
    "```"
   ],
   "id": "2496e636f2709363"
  }
 ],
 "metadata": {
  "kernelspec": {
   "display_name": "Python 3",
   "language": "python",
   "name": "python3"
  },
  "language_info": {
   "codemirror_mode": {
    "name": "ipython",
    "version": 2
   },
   "file_extension": ".py",
   "mimetype": "text/x-python",
   "name": "python",
   "nbconvert_exporter": "python",
   "pygments_lexer": "ipython2",
   "version": "2.7.6"
  }
 },
 "nbformat": 4,
 "nbformat_minor": 5
}
