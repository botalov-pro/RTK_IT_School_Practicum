{
 "cells": [
  {
   "metadata": {},
   "cell_type": "markdown",
   "source": [
    "# Тема 1. Практическая работа 2\n",
    "\n",
    "Исполнитель: Боталов Константин Владимирович\n",
    "\n",
    "**Укажите тип, который соответствует следующим значениям (для строковых данных — string, для целых чисел — integer, для вещественных float, если значение записано неверно — укажите error):**\n",
    "```\n",
    "\"Привет\"\n",
    "1,67\n",
    "-7.90\n",
    "0\n",
    "24\n",
    "12/09/2022\n",
    "```"
   ],
   "id": "ad1732b2bfc3535c"
  },
  {
   "metadata": {},
   "cell_type": "markdown",
   "source": "## Решение",
   "id": "7d1cfa39d3e01722"
  },
  {
   "metadata": {},
   "cell_type": "markdown",
   "source": "",
   "id": "8721e63f38a2419e"
  },
  {
   "metadata": {
    "ExecuteTime": {
     "end_time": "2024-08-25T08:43:37.042596Z",
     "start_time": "2024-08-25T08:43:36.990491Z"
    }
   },
   "cell_type": "code",
   "source": "type(\"Привет\")",
   "id": "a13c146245f1ae67",
   "outputs": [
    {
     "data": {
      "text/plain": [
       "str"
      ]
     },
     "execution_count": 1,
     "metadata": {},
     "output_type": "execute_result"
    }
   ],
   "execution_count": 1
  },
  {
   "metadata": {
    "ExecuteTime": {
     "end_time": "2024-08-25T08:43:38.329599Z",
     "start_time": "2024-08-25T08:43:37.053598Z"
    }
   },
   "cell_type": "code",
   "source": "type(1,67)",
   "id": "95f37d60a8734579",
   "outputs": [
    {
     "ename": "TypeError",
     "evalue": "type() takes 1 or 3 arguments",
     "output_type": "error",
     "traceback": [
      "\u001B[1;31m---------------------------------------------------------------------------\u001B[0m",
      "\u001B[1;31mTypeError\u001B[0m                                 Traceback (most recent call last)",
      "Cell \u001B[1;32mIn[2], line 1\u001B[0m\n\u001B[1;32m----> 1\u001B[0m \u001B[38;5;28;43mtype\u001B[39;49m\u001B[43m(\u001B[49m\u001B[38;5;241;43m1\u001B[39;49m\u001B[43m,\u001B[49m\u001B[38;5;241;43m67\u001B[39;49m\u001B[43m)\u001B[49m\n",
      "\u001B[1;31mTypeError\u001B[0m: type() takes 1 or 3 arguments"
     ]
    }
   ],
   "execution_count": 2
  },
  {
   "metadata": {
    "ExecuteTime": {
     "end_time": "2024-08-25T08:43:38.332601Z",
     "start_time": "2024-08-25T08:43:38.332601Z"
    }
   },
   "cell_type": "code",
   "source": "type(-7.90)",
   "id": "87af0bbc976bc68c",
   "outputs": [],
   "execution_count": null
  },
  {
   "metadata": {},
   "cell_type": "code",
   "source": "type(0)",
   "id": "7b2b711467343a16",
   "outputs": [],
   "execution_count": null
  },
  {
   "metadata": {},
   "cell_type": "code",
   "source": "type(24)",
   "id": "29adcd7277a1c90e",
   "outputs": [],
   "execution_count": null
  },
  {
   "metadata": {},
   "cell_type": "code",
   "source": "type(12/09/2022)",
   "id": "5ce07e3478a271b",
   "outputs": [],
   "execution_count": null
  },
  {
   "metadata": {},
   "cell_type": "markdown",
   "source": "## Ответ",
   "id": "87ae7ec1cd1c9ced"
  },
  {
   "metadata": {},
   "cell_type": "markdown",
   "source": [
    "```\n",
    "\"Привет\" - string\n",
    "1,67 - error (число записано через \",\")\n",
    "-7.90 - float\n",
    "0 - integer\n",
    "24 - integer\n",
    "12/09/2022 - error (типа данных \"дата\" нет)\n",
    "```"
   ],
   "id": "2496e636f2709363"
  }
 ],
 "metadata": {
  "kernelspec": {
   "display_name": "Python 3",
   "language": "python",
   "name": "python3"
  },
  "language_info": {
   "codemirror_mode": {
    "name": "ipython",
    "version": 2
   },
   "file_extension": ".py",
   "mimetype": "text/x-python",
   "name": "python",
   "nbconvert_exporter": "python",
   "pygments_lexer": "ipython2",
   "version": "2.7.6"
  }
 },
 "nbformat": 4,
 "nbformat_minor": 5
}
