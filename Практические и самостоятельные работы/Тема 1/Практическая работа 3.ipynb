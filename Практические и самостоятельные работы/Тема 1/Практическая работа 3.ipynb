{
 "cells": [
  {
   "cell_type": "markdown",
   "id": "ca03ea50-b11f-4f02-9704-9a9d207c04d6",
   "metadata": {},
   "source": [
    "# Тема 1. Практическая работа 3\n",
    "\n",
    "Исполнитель: Боталов Константин Владимирович\n",
    "\n",
    "**Все перечисленные ниже операторы являются неверными, укажите ошибку и исправьте каждый оператор:**\n",
    "\n",
    "```\n",
    "name = print(\"Ваше имя? \"\n",
    "name = input(\"Ваше имя?')\n",
    "x = input(int(\"=\"))\n",
    "print(\"x=\" x)\n",
    "```"
   ]
  },
  {
   "cell_type": "markdown",
   "id": "b1c15235-6ab0-4d46-91ad-f1e2bb32fc27",
   "metadata": {},
   "source": [
    "## Решение"
   ]
  },
  {
   "cell_type": "code",
   "id": "f6f454e6-364a-4665-8f16-c5d29aa00287",
   "metadata": {
    "ExecuteTime": {
     "end_time": "2024-08-25T08:11:03.015118Z",
     "start_time": "2024-08-25T08:11:02.968224Z"
    }
   },
   "source": [
    "print(\"Ваше имя?\")"
   ],
   "outputs": [
    {
     "name": "stdout",
     "output_type": "stream",
     "text": [
      "Ваше имя?\n"
     ]
    }
   ],
   "execution_count": 1
  },
  {
   "cell_type": "code",
   "id": "b29e6244-a28e-4d73-a45f-1d87b6e2fcfd",
   "metadata": {
    "ExecuteTime": {
     "end_time": "2024-08-25T08:11:13.024317Z",
     "start_time": "2024-08-25T08:11:03.015118Z"
    }
   },
   "source": [
    "name = input(\"Ваше имя?\")"
   ],
   "outputs": [],
   "execution_count": 2
  },
  {
   "cell_type": "code",
   "id": "f5025736-9c6e-4df6-822e-4d6efefee626",
   "metadata": {
    "ExecuteTime": {
     "end_time": "2024-08-25T08:11:24.251724Z",
     "start_time": "2024-08-25T08:11:13.024317Z"
    }
   },
   "source": [
    "x = int(input(\"x =\"))"
   ],
   "outputs": [],
   "execution_count": 3
  },
  {
   "cell_type": "code",
   "id": "fab86ec9-2357-478a-8df2-ee280baae8f8",
   "metadata": {
    "ExecuteTime": {
     "end_time": "2024-08-25T08:11:24.267354Z",
     "start_time": "2024-08-25T08:11:24.251724Z"
    }
   },
   "source": [
    "print(\"x =\", x)"
   ],
   "outputs": [
    {
     "name": "stdout",
     "output_type": "stream",
     "text": [
      "x = 2\n"
     ]
    }
   ],
   "execution_count": 4
  }
 ],
 "metadata": {
  "kernelspec": {
   "display_name": "Python 3 (ipykernel)",
   "language": "python",
   "name": "python3"
  },
  "language_info": {
   "codemirror_mode": {
    "name": "ipython",
    "version": 3
   },
   "file_extension": ".py",
   "mimetype": "text/x-python",
   "name": "python",
   "nbconvert_exporter": "python",
   "pygments_lexer": "ipython3",
   "version": "3.12.4"
  }
 },
 "nbformat": 4,
 "nbformat_minor": 5
}
