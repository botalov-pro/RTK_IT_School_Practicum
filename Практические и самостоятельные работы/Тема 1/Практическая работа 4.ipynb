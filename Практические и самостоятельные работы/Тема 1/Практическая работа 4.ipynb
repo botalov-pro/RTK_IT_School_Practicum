{
 "cells": [
  {
   "cell_type": "markdown",
   "id": "00afa530-d1c8-4655-87ea-db81912658af",
   "metadata": {},
   "source": [
    "# Тема 1. Практическая работа 4\n",
    "\n",
    "Исполнитель: Боталов Константин Владимирович\n",
    "\n",
    "**Напишите программу, которая спрашивает у пользователя его имя, возраст и рост (в метрах). Вывести приветствие пользователю, указав его возраст и рост.**"
   ]
  },
  {
   "cell_type": "code",
   "id": "731ac7d8-1214-4bce-b316-3d318bb28eb4",
   "metadata": {
    "ExecuteTime": {
     "end_time": "2024-07-22T17:16:17.605083Z",
     "start_time": "2024-07-22T17:16:02.631177Z"
    }
   },
   "source": [
    "name = input(\"Как тебя зовут?\")\n",
    "age = int(input(\"Сколько тебе лет?\"))\n",
    "height = int(input(\"Какой у тебя рост в сантиметрах?\"))\n",
    "print (f\"Привет. Меня зовут {name}. Мне {age} лет. Мой рост {height} см.\")"
   ],
   "outputs": [
    {
     "name": "stdout",
     "output_type": "stream",
     "text": [
      "Привет. Меня зовут Константин. Мне 39 лет. Мой рост 172 см.\n"
     ]
    }
   ],
   "execution_count": 1
  }
 ],
 "metadata": {
  "kernelspec": {
   "display_name": "Python 3 (ipykernel)",
   "language": "python",
   "name": "python3"
  },
  "language_info": {
   "codemirror_mode": {
    "name": "ipython",
    "version": 3
   },
   "file_extension": ".py",
   "mimetype": "text/x-python",
   "name": "python",
   "nbconvert_exporter": "python",
   "pygments_lexer": "ipython3",
   "version": "3.12.4"
  }
 },
 "nbformat": 4,
 "nbformat_minor": 5
}
