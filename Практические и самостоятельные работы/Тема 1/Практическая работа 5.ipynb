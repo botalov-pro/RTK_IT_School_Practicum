{
 "cells": [
  {
   "cell_type": "markdown",
   "id": "0a371517-7c8c-4d72-8e54-10758be241d3",
   "metadata": {},
   "source": [
    "# Тема 1. Практическая работа 5\n",
    "\n",
    "Исполнитель: Боталов Константин Владимирович\n",
    "\n",
    "**Вычислите значения следующих выражений для заданных x и y:**\n",
    "```\n",
    "x = 5\n",
    "y = 3\n",
    "x + y ** 2 =\n",
    "y ** 2 * x =\n",
    "x ** y - x =\n",
    "x ** (y - 2) =\n",
    "x / y + 3 =\n",
    "x / y * 3 =\n",
    "x // y =\n",
    "x % y =\n",
    "```"
   ]
  },
  {
   "cell_type": "markdown",
   "id": "4aa1edc6-f098-45f6-8a06-5a61303b2848",
   "metadata": {},
   "source": [
    "## Решение"
   ]
  },
  {
   "cell_type": "code",
   "id": "b32ee2cc-b8c7-4dc4-b64e-d8e530ab90de",
   "metadata": {
    "ExecuteTime": {
     "end_time": "2024-07-22T17:18:23.161117Z",
     "start_time": "2024-07-22T17:18:23.152721Z"
    }
   },
   "source": [
    "x = 5\n",
    "y = 3\n",
    "print ('x + y ** 2 =', x + y ** 2)\n",
    "print ('y ** 2 * x =', y ** 2 * x)\n",
    "print ('x ** y - x =', x ** y - x)\n",
    "print ('x ** (y - 2) =', x ** (y - 2))\n",
    "print ('x / y + 3 =', x / y + 3)\n",
    "print ('x / y * 3 =', x / y * 3)\n",
    "print ('x // y =', x // y)\n",
    "print ('x % y =', x % y)"
   ],
   "outputs": [
    {
     "name": "stdout",
     "output_type": "stream",
     "text": [
      "x + y ** 2 = 14\n",
      "y ** 2 * x = 45\n",
      "x ** y - x = 120\n",
      "x ** (y - 2) = 5\n",
      "x / y + 3 = 4.666666666666667\n",
      "x / y * 3 = 5.0\n",
      "x // y = 1\n",
      "x % y = 2\n"
     ]
    }
   ],
   "execution_count": 1
  }
 ],
 "metadata": {
  "kernelspec": {
   "display_name": "Python 3 (ipykernel)",
   "language": "python",
   "name": "python3"
  },
  "language_info": {
   "codemirror_mode": {
    "name": "ipython",
    "version": 3
   },
   "file_extension": ".py",
   "mimetype": "text/x-python",
   "name": "python",
   "nbconvert_exporter": "python",
   "pygments_lexer": "ipython3",
   "version": "3.12.4"
  }
 },
 "nbformat": 4,
 "nbformat_minor": 5
}
