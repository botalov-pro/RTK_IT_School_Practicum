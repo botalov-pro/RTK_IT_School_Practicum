{
 "cells": [
  {
   "cell_type": "markdown",
   "id": "77e6a697-3075-4f07-bbf2-713ae5bf3862",
   "metadata": {},
   "source": [
    "# Тема 1. Практическая работа 6\n",
    "\n",
    "Исполнитель: Боталов Константин Владимирович\n",
    "\n",
    "**Какое значение получит переменная y после программы:**\n",
    "```python\n",
    "x = 3\n",
    "if x <= 0:\n",
    "    y = x\n",
    "elif x <= 5:\n",
    "    y = x ** 2\n",
    "else:\n",
    "    y = -x\n",
    "```"
   ]
  },
  {
   "cell_type": "markdown",
   "id": "b4a94ad0-8a19-4b1a-a82a-2c0dd905bf7b",
   "metadata": {},
   "source": [
    "## Решение"
   ]
  },
  {
   "cell_type": "code",
   "id": "a69acac4-7126-4fc8-ac90-102e829ec7a7",
   "metadata": {
    "ExecuteTime": {
     "end_time": "2024-07-22T17:21:29.437159Z",
     "start_time": "2024-07-22T17:21:29.430898Z"
    }
   },
   "source": [
    "x = 3\n",
    "if x <= 0:\n",
    "    y = x\n",
    "elif x <= 5:\n",
    "    y = x ** 2\n",
    "else:\n",
    "    y = -x\n",
    "    \n",
    "print(y)"
   ],
   "outputs": [
    {
     "name": "stdout",
     "output_type": "stream",
     "text": [
      "9\n"
     ]
    }
   ],
   "execution_count": 2
  },
  {
   "cell_type": "markdown",
   "id": "7af38ef4-323b-4933-b742-930b2341c490",
   "metadata": {},
   "source": [
    "## Ответ"
   ]
  },
  {
   "cell_type": "markdown",
   "id": "00015278-0570-47ec-89e9-c6a627a99ef2",
   "metadata": {},
   "source": "9"
  }
 ],
 "metadata": {
  "kernelspec": {
   "display_name": "Python 3 (ipykernel)",
   "language": "python",
   "name": "python3"
  },
  "language_info": {
   "codemirror_mode": {
    "name": "ipython",
    "version": 3
   },
   "file_extension": ".py",
   "mimetype": "text/x-python",
   "name": "python",
   "nbconvert_exporter": "python",
   "pygments_lexer": "ipython3",
   "version": "3.12.4"
  }
 },
 "nbformat": 4,
 "nbformat_minor": 5
}
