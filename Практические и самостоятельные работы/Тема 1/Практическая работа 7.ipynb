{
 "cells": [
  {
   "cell_type": "markdown",
   "id": "9ecac093-9c73-41bf-9ba5-37bda3aeebc8",
   "metadata": {},
   "source": [
    "# Тема 1. Практическая работа 7\n",
    "\n",
    "Исполнитель: Боталов Константин Владимирович\n",
    "\n",
    "**Вычислите значения следующих логических выражений:**\n",
    "```\n",
    "x == y or (x - 4) >= 1\n",
    "x != 2 and y <= 5\n",
    "```"
   ]
  },
  {
   "metadata": {},
   "cell_type": "markdown",
   "source": "## Решение",
   "id": "1d54c24a053b42aa"
  },
  {
   "cell_type": "code",
   "id": "d6052b35-848f-449d-86f6-4a7e089e3b67",
   "metadata": {
    "ExecuteTime": {
     "end_time": "2024-07-23T14:19:54.787841Z",
     "start_time": "2024-07-23T14:19:51.334857Z"
    }
   },
   "source": [
    "# Вводим значение переменных\n",
    "x = float(input(\"x =\"))\n",
    "y = float(input(\"y =\"))\n",
    "\n",
    "# Вычисляем значения выражений\n",
    "exp1 = (x == y or (x - 4) >= 1)\n",
    "exp2 = (x != 2 and y <= 5)\n",
    "\n",
    "# Выводим результат вычисления выражений\n",
    "print(f\"При x={x} и y={y} значение логического выражения:\")\n",
    "print(f\"1) x == y or (x - 4) >= 1 -----> {exp1}\")\n",
    "print(f\"2) x != 2 and y <= 5 -----> {exp2}\")"
   ],
   "outputs": [
    {
     "name": "stdout",
     "output_type": "stream",
     "text": [
      "При x=5.0 и y=5.0 значение логического выражения:\n",
      "1) x == y or (x - 4) >= 1 -----> True\n",
      "2) x != 2 and y <= 5 -----> True\n"
     ]
    }
   ],
   "execution_count": 13
  }
 ],
 "metadata": {
  "kernelspec": {
   "display_name": "Python 3 (ipykernel)",
   "language": "python",
   "name": "python3"
  },
  "language_info": {
   "codemirror_mode": {
    "name": "ipython",
    "version": 3
   },
   "file_extension": ".py",
   "mimetype": "text/x-python",
   "name": "python",
   "nbconvert_exporter": "python",
   "pygments_lexer": "ipython3",
   "version": "3.12.4"
  }
 },
 "nbformat": 4,
 "nbformat_minor": 5
}
