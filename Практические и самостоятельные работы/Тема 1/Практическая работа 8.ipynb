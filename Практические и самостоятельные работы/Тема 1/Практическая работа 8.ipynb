{
 "cells": [
  {
   "cell_type": "markdown",
   "id": "9ecac093-9c73-41bf-9ba5-37bda3aeebc8",
   "metadata": {},
   "source": [
    "# Тема 1. Практическая работа 8\n",
    "\n",
    "Исполнитель: Боталов Константин Владимирович\n",
    "\n",
    "**Какие значения получатся после выполнения следующих встроенных функций?**\n",
    "```\n",
    "round(3.89) =\n",
    "round(-2.49) =\n",
    "round(4.999,2) =\n",
    "abs(-5) =\n",
    "abs(6.1) =\n",
    "max(1.9, -2, -3.1, 0.2) =\n",
    "abs(min(3, -2, -3.1, 0.2)) =\n",
    "min(3, abs(-2), abs(-3.1), 0.2) =\n",
    "```"
   ]
  },
  {
   "metadata": {},
   "cell_type": "markdown",
   "source": "## Решение",
   "id": "e9b0cee4f00cd3ab"
  },
  {
   "cell_type": "code",
   "id": "d6052b35-848f-449d-86f6-4a7e089e3b67",
   "metadata": {
    "ExecuteTime": {
     "end_time": "2024-07-22T17:46:55.698287Z",
     "start_time": "2024-07-22T17:46:55.688845Z"
    }
   },
   "source": [
    "print(\"round(3.89) =\", round(3.89))\n",
    "print(\"round(-2.49) =\", round(-2.49))\n",
    "print(\"round(4.999,2) =\", round(4.999,2))\n",
    "print(\"abs(-5) =\", abs(-5))\n",
    "print(\"abs(6.1) =\", abs(6.1))\n",
    "print(\"max(1.9, -2, -3.1, 0.2) =\", max(1.9, -2, -3.1, 0.2))\n",
    "print(\"abs(min(3, -2, -3.1, 0.2)) =\", abs(min(3, -2, -3.1, 0.2)))\n",
    "print(\"min(3, abs(-2), abs(-3.1), 0.2) =\", min(3, abs(-2), abs(-3.1), 0.2))"
   ],
   "outputs": [
    {
     "name": "stdout",
     "output_type": "stream",
     "text": [
      "round(3.89) = 4\n",
      "round(-2.49) = -2\n",
      "round(4.999,2) = 5.0\n",
      "abs(-5) = 5\n",
      "abs(6.1) = 6.1\n",
      "max(1.9, -2, -3.1, 0.2) = 1.9\n",
      "abs(min(3, -2, -3.1, 0.2)) = 3.1\n",
      "min(3, abs(-2), abs(-3.1), 0.2) = 0.2\n"
     ]
    }
   ],
   "execution_count": 3
  },
  {
   "metadata": {},
   "cell_type": "markdown",
   "source": [
    "## Ответ\n",
    "\n",
    "```\n",
    "round(3.89) = 4\n",
    "round(-2.49) = -2\n",
    "round(4.999,2) = 5.0\n",
    "abs(-5) = 5\n",
    "abs(6.1) = 6.1\n",
    "max(1.9, -2, -3.1, 0.2) = 1.9\n",
    "abs(min(3, -2, -3.1, 0.2)) = 3.1\n",
    "min(3, abs(-2), abs(-3.1), 0.2) = 0.2\n",
    "```\n"
   ],
   "id": "d59f1c640acf8a5f"
  }
 ],
 "metadata": {
  "kernelspec": {
   "display_name": "Python 3 (ipykernel)",
   "language": "python",
   "name": "python3"
  },
  "language_info": {
   "codemirror_mode": {
    "name": "ipython",
    "version": 3
   },
   "file_extension": ".py",
   "mimetype": "text/x-python",
   "name": "python",
   "nbconvert_exporter": "python",
   "pygments_lexer": "ipython3",
   "version": "3.12.4"
  }
 },
 "nbformat": 4,
 "nbformat_minor": 5
}
