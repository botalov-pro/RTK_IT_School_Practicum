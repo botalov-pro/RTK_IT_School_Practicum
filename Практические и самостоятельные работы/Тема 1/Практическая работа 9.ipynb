{
 "cells": [
  {
   "cell_type": "markdown",
   "id": "a0c4c64f-54b5-4360-becc-b4a71caef4c8",
   "metadata": {},
   "source": [
    "# Тема 1. Практическая работа 9\n",
    "\n",
    "Исполнитель: Боталов Константин Владимирович\n",
    "\n",
    "**Напишите программу для решения следующей задачи:**\n",
    "```\n",
    "Ракета запускается с точки на экваторе и развивает скорость v км/с. Каков результат запуска?\n",
    "\n",
    "Указание:\n",
    "    если v ≤ 7.8 км/с, то ракета упадёт на Землю (вывести 0),\n",
    "    если 7.8 <v <11.2, то ракета станет спутником Земли (вывести 1),\n",
    "    если 11.2 ≤ v ≤ 16.4, то ракета станет спутником Солнца (вывести 2),\n",
    "    если v > 16.4, то ракета покинет Солнечную Систему (вывести 3).\n",
    "\n",
    "Если будет введено значение, меньшее или равное 0, то вывести «error».\n",
    "```"
   ]
  },
  {
   "metadata": {},
   "cell_type": "markdown",
   "source": "## Решение",
   "id": "71f8c14fbea2d0ec"
  },
  {
   "cell_type": "code",
   "id": "c3a6c842-1d9b-4ae3-b3ee-1a77f8e37061",
   "metadata": {
    "ExecuteTime": {
     "end_time": "2024-07-22T17:53:03.455507Z",
     "start_time": "2024-07-22T17:52:59.342408Z"
    }
   },
   "source": [
    "# ввод скорости ракеты в км/с\n",
    "v = float(input(\"Укажите скорость ракеты в км/с?\"))\n",
    "\n",
    "if 0 < v <= 7.8:\n",
    "    # ракета упадёт на Землю\n",
    "    print (0)\n",
    "elif 7.8 < v < 11.2:\n",
    "    # ракета станет спутником Земли\n",
    "    print (1)\n",
    "elif 11.2 <= v <= 16.4:\n",
    "    # ракета станет спутником Солнца\n",
    "    print (2)\n",
    "elif v >= 16.4:\n",
    "    # ракета покинет Солнечную Систему\n",
    "    print (3)\n",
    "else:\n",
    "    # Если будет введено значение, меньшее или равное 0\n",
    "    print (\"error\")"
   ],
   "outputs": [
    {
     "name": "stdout",
     "output_type": "stream",
     "text": [
      "3\n"
     ]
    }
   ],
   "execution_count": 2
  },
  {
   "metadata": {},
   "cell_type": "code",
   "outputs": [],
   "execution_count": null,
   "source": "",
   "id": "31e4bf2fa4a3947e"
  }
 ],
 "metadata": {
  "kernelspec": {
   "display_name": "Python 3 (ipykernel)",
   "language": "python",
   "name": "python3"
  },
  "language_info": {
   "codemirror_mode": {
    "name": "ipython",
    "version": 3
   },
   "file_extension": ".py",
   "mimetype": "text/x-python",
   "name": "python",
   "nbconvert_exporter": "python",
   "pygments_lexer": "ipython3",
   "version": "3.12.4"
  }
 },
 "nbformat": 4,
 "nbformat_minor": 5
}
