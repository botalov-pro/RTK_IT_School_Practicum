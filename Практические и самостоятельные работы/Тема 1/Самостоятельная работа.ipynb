{
 "cells": [
  {
   "cell_type": "markdown",
   "id": "fe26b27d-0f8b-4713-a661-7dba912cc75d",
   "metadata": {},
   "source": [
    "# Тема 1. Самостоятельная работа\n",
    "\n",
    "Исполнитель: Боталов Константин Владимирович"
   ]
  },
  {
   "cell_type": "markdown",
   "id": "7d863ad6-f5d7-4b03-9ab8-6c1f2c150a6e",
   "metadata": {},
   "source": [
    "## Вариант 6"
   ]
  },
  {
   "cell_type": "markdown",
   "id": "3802d14b-5aa3-4a48-8f9f-4b3d591e6ae1",
   "metadata": {},
   "source": [
    "1. Дана равнобедренная трапеция, заданная длинами оснований и высотой. Найти площадь и периметр этой трапеции."
   ]
  },
  {
   "cell_type": "code",
   "id": "e1edb75f-ded1-468b-b2ae-ae9d147f41f1",
   "metadata": {
    "ExecuteTime": {
     "end_time": "2024-08-25T08:13:00.775384Z",
     "start_time": "2024-08-25T08:12:52.067007Z"
    }
   },
   "source": [
    "# Импорт необходимых модулей\n",
    "import math\n",
    "\n",
    "# Ввод данных\n",
    "a = float(input(\"Укажите длину 1го основания равнобедренной трапеции:\"))\n",
    "b = float(input(\"Укажите длину 2го основания равнобедренной трапеции:\"))\n",
    "h = float(input(\"Укажите высоту равнобедренной трапеции:\"))\n",
    "\n",
    "# Вычисление ПЛОЩАДИ трапеции\n",
    "s = ((a + b) / 2) * h\n",
    "\n",
    "# Вычисление ПЕРИМЕТРА трапеции (с округлением результата до 2х знаков)\n",
    "p = round(a + b + 2 * (math.sqrt(h ** 2 + ((a - b) / 2) ** 2)), 2)\n",
    "\n",
    "# Вывод результата\n",
    "print (f\"Ответ: для равнобедренной трапеции с основаниями {a} и {b}, высотой {h} - ПЛОЩАДЬ составляет {s}, ПЕРИМЕТР составляет {p}\")"
   ],
   "outputs": [
    {
     "name": "stdout",
     "output_type": "stream",
     "text": [
      "Ответ: для равнобедренной трапеции с основаниями 3.0 и 4.0, высотой 6.0 - ПЛОЩАДЬ составляет 21.0, ПЕРИМЕТР составляет 19.04\n"
     ]
    }
   ],
   "execution_count": 1
  },
  {
   "cell_type": "markdown",
   "id": "9d49d767-f751-46b8-a5bf-068169d73b08",
   "metadata": {},
   "source": [
    "2. Составьте программу, которая для целого числа k (от 1 до 99), введённого вами, напечатает фразу «Мне k лет», при этом в нужных случаях слово «лет» заменяя на «год» или «года»."
   ]
  },
  {
   "cell_type": "code",
   "id": "7dbea98e-305e-4294-971e-5e54d515c7c0",
   "metadata": {
    "ExecuteTime": {
     "end_time": "2024-08-25T08:13:05.885480Z",
     "start_time": "2024-08-25T08:13:00.775384Z"
    }
   },
   "source": [
    "# Ввод данных\n",
    "k = int(input(\"Введите целое число от 1 до 99:\"))\n",
    "\n",
    "# Вычисление и вывод\n",
    "if k in range(5, 21):\n",
    "    print (f\"Мне {k} лет.\")\n",
    "elif k % 10 == 1:\n",
    "    print (f\"Мне {k} год.\")\n",
    "elif k % 10 in range(2, 5):\n",
    "    print (f\"Мне {k} года.\")\n",
    "else:\n",
    "    print (f\"Мне {k} лет.\")        "
   ],
   "outputs": [
    {
     "name": "stdout",
     "output_type": "stream",
     "text": [
      "Мне 5 лет.\n"
     ]
    }
   ],
   "execution_count": 2
  },
  {
   "metadata": {
    "ExecuteTime": {
     "end_time": "2024-08-25T08:13:05.901106Z",
     "start_time": "2024-08-25T08:13:05.885480Z"
    }
   },
   "cell_type": "code",
   "source": "",
   "id": "101b36d7fdbab6a0",
   "outputs": [],
   "execution_count": 2
  }
 ],
 "metadata": {
  "kernelspec": {
   "display_name": "Python 3 (ipykernel)",
   "language": "python",
   "name": "python3"
  },
  "language_info": {
   "codemirror_mode": {
    "name": "ipython",
    "version": 3
   },
   "file_extension": ".py",
   "mimetype": "text/x-python",
   "name": "python",
   "nbconvert_exporter": "python",
   "pygments_lexer": "ipython3",
   "version": "3.12.4"
  }
 },
 "nbformat": 4,
 "nbformat_minor": 5
}
